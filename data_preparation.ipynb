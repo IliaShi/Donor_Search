{
 "cells": [
  {
   "cell_type": "markdown",
   "metadata": {},
   "source": [
    "Код обрабатывает изображения исходного датасета.  \n",
    "Предполагается, что все изображения изначально в правильной ориентации, т.е. угол поворота - 0 (исправлено вручную).  \n",
    "Разделение на трейн, валидацию и тест в соотношении 64:16:20.  \n",
    "В каждом сете изображения поворачивает на 90, 180 и 270 градусов. Сохраняет в поддиректорую в соответствии с меткой класса. Таким образом, количество изображений в тренировочной выборке увеличивается в 4 раза.  "
   ]
  },
  {
   "cell_type": "markdown",
   "metadata": {},
   "source": [
    "### Импорты"
   ]
  },
  {
   "cell_type": "code",
   "execution_count": 14,
   "metadata": {},
   "outputs": [],
   "source": [
    "import os\n",
    "import shutil\n",
    "from PIL import Image\n",
    "import pandas as pd\n",
    "import random"
   ]
  },
  {
   "cell_type": "markdown",
   "metadata": {},
   "source": [
    "### Константы"
   ]
  },
  {
   "cell_type": "code",
   "execution_count": 15,
   "metadata": {},
   "outputs": [],
   "source": [
    "# путь к папке с исходными изображениями\n",
    "DIR_INIT = 'data\\\\img_dir_clear'\n",
    "# путь папки для тренировочной выборки\n",
    "DIR_TRAIN = 'data\\\\img_dir_train'\n",
    "# путь папки для валидационной выборки\n",
    "DIR_VALID = 'data\\\\img_dir_valid'\n",
    "# путь папки для тестовой выборки\n",
    "DIR_TEST = 'data\\\\img_dir_test'\n",
    "# Классы\n",
    "CLASSES = ['0', '090', '180', '270']"
   ]
  },
  {
   "cell_type": "markdown",
   "metadata": {},
   "source": [
    "### Собственные функции"
   ]
  },
  {
   "cell_type": "code",
   "execution_count": 16,
   "metadata": {},
   "outputs": [],
   "source": [
    "def data_preparation_train(path_=''):\n",
    "    \"\"\" Функция поворачивает каждый файл на 90, 180, 270 гр. и сохраняет в поддиректории с метками классов\n",
    "    Args:\n",
    "        path_ (str): путь к папке с файлами\n",
    "    Returns:\n",
    "        нет\n",
    "    \"\"\"\n",
    "    # Формируем список файлов\n",
    "    file_list_init = os.listdir(path_)\n",
    "\n",
    "    # Повороты по 90 градусов, метки классов \"090\", \"180\", \"270\"\n",
    "    for angle in ['090', '180', '270']:\n",
    "        for file_name in file_list_init:\n",
    "            if file_name.lower().endswith(('.png', '.jpg', '.jpeg')):\n",
    "                # открываем изображение, поворачиваем на 90/180/270, сохраняем экземпляр\n",
    "                file_name_new = angle + '_' + file_name\n",
    "                file_path = os.path.join(path_, file_name)\n",
    "                image = Image.open(file_path)\n",
    "                image_rot = image.rotate(angle=int(angle), expand=True)\n",
    "                image_rot.save(os.path.join(path_, str(angle), file_name_new))\n",
    "                image.close()\n",
    "\n",
    "    # Обрабатываем метку класса \"0\" гр.\n",
    "    for file_name in file_list_init:\n",
    "        if file_name.lower().endswith(('.png', '.jpg', '.jpeg')):\n",
    "            # Перемещаем исходые файлы в папку с меткой \"0\"\n",
    "            path_init = os.path.join(path_, file_name)\n",
    "            path_dest = os.path.join(path_, '0', file_name)\n",
    "            shutil.move(path_init, path_dest)\n",
    "\n",
    "    # Выводим инфо по обработанному сету\n",
    "    sum = 0\n",
    "    print(f'Сет {path_} \\nКоличество примеров по классам:')\n",
    "    for i in CLASSES:\n",
    "        print(i, '\\t', len(os.listdir(os.path.join(path_, i))))\n",
    "        sum += len(os.listdir(os.path.join(path_, i)))\n",
    "    print(f'Всего примеров: ', sum)"
   ]
  },
  {
   "cell_type": "code",
   "execution_count": 17,
   "metadata": {},
   "outputs": [],
   "source": [
    "def data_preparation_test(path_=''):\n",
    "    \"\"\" Функция поворачивает каждый файл в директории на 90, 180, 270 гр. и сохраняет в поддиректории с метками классов\n",
    "    Args:\n",
    "        path_ (str): путь к папке с файлами\n",
    "    Returns:\n",
    "        нет\n",
    "    \"\"\"\n",
    "    # Формируем список файлов\n",
    "    file_list_init = os.listdir(path_)\n",
    "\n",
    "    # Повороты по 90 градусов, метки классов \"90\", \"180\", \"270\"\n",
    "    for angle in ['090', '180', '270']:\n",
    "        for file_name in file_list_init:\n",
    "            if file_name.lower().endswith(('.png', '.jpg', '.jpeg')):\n",
    "                # открываем изображение, поворачиваем, сохраняем\n",
    "                file_name_new = angle + '_' + file_name\n",
    "                file_path = os.path.join(path_, file_name)\n",
    "                image = Image.open(file_path)\n",
    "                image_rot = image.rotate(angle=int(angle), expand=True)\n",
    "                image_rot.save(os.path.join(path_, angle, file_name_new))\n",
    "                image.close()\n",
    "\n",
    "    # Перемещаем исходые файлы в папку с меткой \"0\"\n",
    "    for file_name in file_list_init:\n",
    "        if file_name.lower().endswith(('.png', '.jpg', '.jpeg')):\n",
    "            path_init = os.path.join(path_, file_name)\n",
    "            path_dest = os.path.join(path_, '0', file_name)\n",
    "            shutil.move(path_init, path_dest)\n",
    "\n",
    "    # Выводим инфо по обработанному сету\n",
    "    sum = 0\n",
    "    print(f'Сет {path_} \\nКоличество примеров по классам:')\n",
    "    for i in CLASSES:\n",
    "        print(i, '\\t', len(os.listdir(os.path.join(path_, i))))\n",
    "        sum += len(os.listdir(os.path.join(path_, i)))\n",
    "    print(f'Всего примеров: ', sum)"
   ]
  },
  {
   "cell_type": "markdown",
   "metadata": {},
   "source": [
    "### Основной код"
   ]
  },
  {
   "cell_type": "code",
   "execution_count": 18,
   "metadata": {},
   "outputs": [],
   "source": [
    "# Проверяем существование директорий для трейна, валидации и теста, создаем их, если не существуют.\n",
    "for i in [DIR_INIT, DIR_TRAIN, DIR_VALID, DIR_TEST]:\n",
    "    if not os.path.exists(i):\n",
    "        os.makedirs(i)"
   ]
  },
  {
   "cell_type": "code",
   "execution_count": 19,
   "metadata": {},
   "outputs": [],
   "source": [
    "# Cоздаем поддиректории для классов изображений\n",
    "for i in CLASSES:\n",
    "    os.makedirs(DIR_TRAIN + '\\\\' + i)\n",
    "    os.makedirs(DIR_VALID + '\\\\' + i)\n",
    "    os.makedirs(DIR_TEST + '\\\\' + i)"
   ]
  },
  {
   "cell_type": "code",
   "execution_count": 20,
   "metadata": {},
   "outputs": [
    {
     "name": "stdout",
     "output_type": "stream",
     "text": [
      "Тренировочная выборка: 110 \n",
      "Валидационная выборка: 27 \n",
      "Тестовая выборка: 36\n"
     ]
    }
   ],
   "source": [
    "# Создаем списки файлов для тренировочной, валидационной и тестовой выборки в соотношении 64:16:20, соотв.\n",
    "file_list = [f for f in os.listdir(DIR_INIT)\n",
    "             if f.lower().endswith(('.png', '.jpg', '.jpeg'))]\n",
    "\n",
    "random.shuffle(file_list)\n",
    "train_size = int(len(file_list) * 0.64)\n",
    "val_size = int(len(file_list) * 0.16)\n",
    "train_files = file_list[:train_size]\n",
    "val_files = file_list[train_size:val_size+train_size]\n",
    "test_files = file_list[val_size+train_size:]\n",
    "print(f'Тренировочная выборка: {len(train_files)} \\nВалидационная выборка: {len(val_files)} \\nТестовая выборка: {len(test_files)}')"
   ]
  },
  {
   "cell_type": "code",
   "execution_count": 21,
   "metadata": {},
   "outputs": [],
   "source": [
    "# Копируем файлы трейна, валидации и теста в соответствующие папки\n",
    "for fn in train_files:\n",
    "    sourse_path = os.path.join(DIR_INIT, fn)\n",
    "    dest_path = os.path.join(DIR_TRAIN, fn)\n",
    "    shutil.copy(sourse_path, dest_path)\n",
    "\n",
    "for fn in val_files:\n",
    "    sourse_path = os.path.join(DIR_INIT, fn)\n",
    "    dest_path = os.path.join(DIR_VALID, fn)\n",
    "    shutil.copy(sourse_path, dest_path)\n",
    "\n",
    "for fn in test_files:\n",
    "    sourse_path = os.path.join(DIR_INIT, fn)\n",
    "    dest_path = os.path.join(DIR_TEST, fn)\n",
    "    shutil.copy(sourse_path, dest_path)"
   ]
  },
  {
   "cell_type": "code",
   "execution_count": 22,
   "metadata": {},
   "outputs": [
    {
     "name": "stdout",
     "output_type": "stream",
     "text": [
      "Сет data\\img_dir_train \n",
      "Количество примеров по классам:\n",
      "0 \t 110\n",
      "090 \t 110\n",
      "180 \t 110\n",
      "270 \t 110\n",
      "Всего примеров:  440\n"
     ]
    }
   ],
   "source": [
    "# Обработка тренировочного сета\n",
    "data_preparation_train(path_=DIR_TRAIN)"
   ]
  },
  {
   "cell_type": "code",
   "execution_count": 23,
   "metadata": {},
   "outputs": [
    {
     "name": "stdout",
     "output_type": "stream",
     "text": [
      "Сет data\\img_dir_valid \n",
      "Количество примеров по классам:\n",
      "0 \t 27\n",
      "090 \t 27\n",
      "180 \t 27\n",
      "270 \t 27\n",
      "Всего примеров:  108\n"
     ]
    }
   ],
   "source": [
    "# Обработка валидационного сета\n",
    "data_preparation_test(path_=DIR_VALID)"
   ]
  },
  {
   "cell_type": "code",
   "execution_count": 24,
   "metadata": {},
   "outputs": [
    {
     "name": "stdout",
     "output_type": "stream",
     "text": [
      "Сет data\\img_dir_test \n",
      "Количество примеров по классам:\n",
      "0 \t 36\n",
      "090 \t 36\n",
      "180 \t 36\n",
      "270 \t 36\n",
      "Всего примеров:  144\n"
     ]
    }
   ],
   "source": [
    "# Обработка тестовой выборки\n",
    "data_preparation_test(path_=DIR_TEST)"
   ]
  },
  {
   "cell_type": "markdown",
   "metadata": {},
   "source": []
  }
 ],
 "metadata": {
  "kernelspec": {
   "display_name": "donor_search_venv",
   "language": "python",
   "name": "python3"
  },
  "language_info": {
   "codemirror_mode": {
    "name": "ipython",
    "version": 3
   },
   "file_extension": ".py",
   "mimetype": "text/x-python",
   "name": "python",
   "nbconvert_exporter": "python",
   "pygments_lexer": "ipython3",
   "version": "3.12.5"
  }
 },
 "nbformat": 4,
 "nbformat_minor": 2
}
