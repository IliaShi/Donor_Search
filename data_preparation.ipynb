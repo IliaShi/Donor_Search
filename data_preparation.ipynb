{
 "cells": [
  {
   "cell_type": "markdown",
   "metadata": {},
   "source": [
    "Код обрабатывает изображения исходного датасета.  \n",
    "Предполагается, что все изображения изначально в правильной ориентации (исправлено вручную).  \n",
    "Разделение на трейн и тест в соотношении 80:20.  \n",
    "Трейн: каждое изображение поворачивает на 90, 180 и 270 градусов, присваивает исходному изображению метку 0, остальным 1, 2, 3, соответственно. Таким образом, количество изображений в тренировочной выборке увеличивается в 4 раза.  \n",
    "Тест: изображение случайным образом поворачивает на 0, 90, 180, 270 градусов, присваивает соответствующую метка класса. Количество изображений не увеличивается.  \n",
    "Название файла и метку класса записывает в annotations_file_train.csv и annotations_file_test.csv (колонки file_name, target).  "
   ]
  },
  {
   "cell_type": "markdown",
   "metadata": {},
   "source": [
    "### Импорты"
   ]
  },
  {
   "cell_type": "code",
   "execution_count": 219,
   "metadata": {},
   "outputs": [],
   "source": [
    "import os\n",
    "import shutil\n",
    "from PIL import Image\n",
    "import pandas as pd\n",
    "import random"
   ]
  },
  {
   "cell_type": "markdown",
   "metadata": {},
   "source": [
    "### Константы"
   ]
  },
  {
   "cell_type": "code",
   "execution_count": 220,
   "metadata": {},
   "outputs": [],
   "source": [
    "# путь к папке с исходными изображениями\n",
    "DIR_INIT = 'data\\\\img_dir'\n",
    "# путь папки для тренировочной выборки\n",
    "DIR_TRAIN = 'data\\\\img_dir_train'\n",
    "# путь папки для тестовой выборки\n",
    "DIR_TEST = 'data\\\\img_dir_test'"
   ]
  },
  {
   "cell_type": "markdown",
   "metadata": {},
   "source": [
    "### Собственные функции"
   ]
  },
  {
   "cell_type": "code",
   "execution_count": 221,
   "metadata": {},
   "outputs": [],
   "source": [
    "def data_preparation_train(path_='', df_=None):\n",
    "    \"\"\"\n",
    "    Поворачивает каждый файл в директории на 90, 180, 270 гр. и создает датафрейм с разметкой классов\n",
    "    Args:\n",
    "        path_ (str): путь к папке с файлами\n",
    "        df_ (DataFrame): датафрейм для записи меток класса\n",
    "    Returns:\n",
    "        нет\n",
    "    \"\"\"\n",
    "\n",
    "    # Формируем список файлов\n",
    "    file_list_init = os.listdir(path_)\n",
    "\n",
    "    # Фиксируем имена исходных файлов, метка класса \"0\"\n",
    "    for file_name in file_list_init:\n",
    "        # Проверяем тип файла, добавляем запись в датафрейм\n",
    "        if file_name.lower().endswith(('.png', '.jpg', '.gpeg')):\n",
    "            df_.loc[df_.shape[0]] = [file_name, 0]\n",
    "\n",
    "    # Повороты по 90 градусов, метки классов \"1\", \"2\", \"3\"\n",
    "    for angle in [90, 180, 270]:\n",
    "        for file_name in file_list_init:\n",
    "            if file_name.lower().endswith(('.png', '.jpg', '.gpeg')):\n",
    "                # открываем изображение, поворачиваем, сохраняем\n",
    "                file_name_new = str(angle) + '_' + file_name\n",
    "                file_path = os.path.join(path_, file_name)\n",
    "                image = Image.open(file_path)\n",
    "                image_rot = image.rotate(angle=angle, expand=True)\n",
    "                image_rot.save(os.path.join(path_, file_name_new))\n",
    "                image.close()\n",
    "                # фиксируем имя файла и таргет в датафрейме\n",
    "                if angle == 90:\n",
    "                    df_.loc[df_.shape[0]] = [file_name_new, 1]\n",
    "                if angle == 180:\n",
    "                    df_.loc[df_.shape[0]] = [file_name_new, 2]\n",
    "                if angle == 270:\n",
    "                    df_.loc[df_.shape[0]] = [file_name_new, 3]"
   ]
  },
  {
   "cell_type": "code",
   "execution_count": 222,
   "metadata": {},
   "outputs": [],
   "source": [
    "def data_preparation_test(path_='', df_=None):\n",
    "    \"\"\"\n",
    "    Поворачивает каждый файл в директории один раз случайным образом на 90, 180 или 270 гр.\n",
    "    и создает датафрейм с разметкой классов\n",
    "    Args:\n",
    "        path_ (str): путь к папке с файлами\n",
    "        df_ (DataFrame): датафрейм для записи меток класса\n",
    "    Returns:\n",
    "        нет\n",
    "    \"\"\"\n",
    "    # Формируем список файлов\n",
    "    file_list_init = os.listdir(path_)\n",
    "\n",
    "    for file_name in file_list_init:\n",
    "        # Определяем рандомный угол поворота\n",
    "        random_angle = random.randrange(0, 271, 90)\n",
    "        # Проверяем тип файла\n",
    "        if file_name.lower().endswith(('.png', '.jpg', '.gpeg')):\n",
    "            # если угол поворота \"0\"\n",
    "            if random_angle == 0:\n",
    "                # фиксируем имя файла и таргет в датафрейме\n",
    "                df_.loc[len(df_.index)] = [file_name, 0]\n",
    "            # если угол поворота отличен от нуля\n",
    "            else:\n",
    "                # открываем изображение, поворачиваем, сохраняем файл\n",
    "                #file_name_new = str(random_angle) + '_' + file_name\n",
    "                file_path = os.path.join(path_, file_name)\n",
    "                image = Image.open(file_path)\n",
    "                image = image.rotate(angle=random_angle, expand=True)\n",
    "                image.save(os.path.join(path_, file_name))\n",
    "                image.close()\n",
    "                # фиксируем имя файла и таргет в датафрейме\n",
    "                if random_angle == 90:\n",
    "                    df_.loc[len(df_.index)] = [file_name, 1]\n",
    "                if random_angle == 180:\n",
    "                    df_.loc[len(df_.index)] = [file_name, 2]\n",
    "                if random_angle == 270:\n",
    "                    df_.loc[len(df_.index)] = [file_name, 3]"
   ]
  },
  {
   "cell_type": "markdown",
   "metadata": {},
   "source": [
    "### Основной код"
   ]
  },
  {
   "cell_type": "code",
   "execution_count": 223,
   "metadata": {},
   "outputs": [],
   "source": [
    "# Проверяем существование папок для сохранения ротированых изображений, создаем их, если нет.\n",
    "for i in [DIR_INIT, DIR_TRAIN, DIR_TEST]:\n",
    "    if not os.path.exists(i):\n",
    "        os.makedirs(i)"
   ]
  },
  {
   "cell_type": "code",
   "execution_count": 224,
   "metadata": {},
   "outputs": [
    {
     "data": {
      "text/html": [
       "<div>\n",
       "<style scoped>\n",
       "    .dataframe tbody tr th:only-of-type {\n",
       "        vertical-align: middle;\n",
       "    }\n",
       "\n",
       "    .dataframe tbody tr th {\n",
       "        vertical-align: top;\n",
       "    }\n",
       "\n",
       "    .dataframe thead th {\n",
       "        text-align: right;\n",
       "    }\n",
       "</style>\n",
       "<table border=\"1\" class=\"dataframe\">\n",
       "  <thead>\n",
       "    <tr style=\"text-align: right;\">\n",
       "      <th></th>\n",
       "      <th>file_name</th>\n",
       "      <th>target</th>\n",
       "    </tr>\n",
       "  </thead>\n",
       "  <tbody>\n",
       "  </tbody>\n",
       "</table>\n",
       "</div>"
      ],
      "text/plain": [
       "Empty DataFrame\n",
       "Columns: [file_name, target]\n",
       "Index: []"
      ]
     },
     "execution_count": 224,
     "metadata": {},
     "output_type": "execute_result"
    }
   ],
   "source": [
    "# Создаем датафреймы для фиксации меток класса\n",
    "df_annot_train = pd.DataFrame(columns=['file_name', 'target'])\n",
    "df_annot_test = pd.DataFrame(columns=['file_name', 'target'])\n",
    "df_annot_train"
   ]
  },
  {
   "cell_type": "code",
   "execution_count": 225,
   "metadata": {},
   "outputs": [
    {
     "name": "stdout",
     "output_type": "stream",
     "text": [
      "Тренировочная выборка: 138 \n",
      "Тестовая выборка: 35\n"
     ]
    }
   ],
   "source": [
    "# Выделяем тренировочную и тестовую выборки, соотношение 80:20\n",
    "file_list = [f for f in os.listdir(DIR_INIT)\n",
    "             if f.lower().endswith(('.png', '.jpg', '.gpeg'))]\n",
    "\n",
    "random.shuffle(file_list)\n",
    "train_size = int(len(file_list) * 0.8)\n",
    "train_files = file_list[:train_size]\n",
    "test_files = file_list[train_size:]\n",
    "print(f'Тренировочная выборка: {len(train_files)} \\nТестовая выборка: {len(test_files)}')"
   ]
  },
  {
   "cell_type": "code",
   "execution_count": 226,
   "metadata": {},
   "outputs": [],
   "source": [
    "# Копируем файлы трейна и теста в соответствующие папки\n",
    "for fn in train_files:\n",
    "    sourse_path = os.path.join(DIR_INIT, fn)\n",
    "    dest_path = os.path.join(DIR_TRAIN, fn)\n",
    "    shutil.copy(sourse_path, dest_path)\n",
    "\n",
    "for fn in test_files:\n",
    "    sourse_path = os.path.join(DIR_INIT, fn)\n",
    "    dest_path = os.path.join(DIR_TEST, fn)\n",
    "    shutil.copy(sourse_path, dest_path)"
   ]
  },
  {
   "cell_type": "code",
   "execution_count": 227,
   "metadata": {},
   "outputs": [
    {
     "name": "stdout",
     "output_type": "stream",
     "text": [
      "Количество наблюдений в тренировочной выборке: 552 \n",
      "Количество наблюдений по классам:\n"
     ]
    },
    {
     "data": {
      "text/plain": [
       "target\n",
       "0    138\n",
       "1    138\n",
       "2    138\n",
       "3    138\n",
       "Name: count, dtype: int64"
      ]
     },
     "execution_count": 227,
     "metadata": {},
     "output_type": "execute_result"
    }
   ],
   "source": [
    "# Обработка тренировочной выборки\n",
    "data_preparation_train(path_=DIR_TRAIN, df_=df_annot_train)\n",
    "print(f'Количество наблюдений в тренировочной выборке: {df_annot_train.shape[0]}',\n",
    "      '\\nКоличество наблюдений по классам:')\n",
    "df_annot_train.target.value_counts()"
   ]
  },
  {
   "cell_type": "code",
   "execution_count": 228,
   "metadata": {},
   "outputs": [
    {
     "name": "stdout",
     "output_type": "stream",
     "text": [
      "Количество наблюдений в тестовой выборке: 35 \n",
      "Количество наблюдений по классам:\n"
     ]
    },
    {
     "data": {
      "text/plain": [
       "target\n",
       "2    11\n",
       "3     9\n",
       "1     8\n",
       "0     7\n",
       "Name: count, dtype: int64"
      ]
     },
     "execution_count": 228,
     "metadata": {},
     "output_type": "execute_result"
    }
   ],
   "source": [
    "# Обработка тестовой выборки\n",
    "data_preparation_test(path_=DIR_TEST, df_=df_annot_test)\n",
    "print(f'Количество наблюдений в тестовой выборке: {df_annot_test.shape[0]}',\n",
    "      '\\nКоличество наблюдений по классам:')\n",
    "df_annot_test.target.value_counts()"
   ]
  },
  {
   "cell_type": "code",
   "execution_count": 229,
   "metadata": {},
   "outputs": [],
   "source": [
    "# Сохраняем дафреймы в файл\n",
    "df_annot_train.to_csv('data\\\\'+'annotations_file_train.csv')\n",
    "df_annot_test.to_csv('data\\\\'+'annotations_file_test.csv')"
   ]
  },
  {
   "cell_type": "code",
   "execution_count": null,
   "metadata": {},
   "outputs": [],
   "source": []
  }
 ],
 "metadata": {
  "kernelspec": {
   "display_name": "donor_search_venv",
   "language": "python",
   "name": "python3"
  },
  "language_info": {
   "codemirror_mode": {
    "name": "ipython",
    "version": 3
   },
   "file_extension": ".py",
   "mimetype": "text/x-python",
   "name": "python",
   "nbconvert_exporter": "python",
   "pygments_lexer": "ipython3",
   "version": "3.12.5"
  }
 },
 "nbformat": 4,
 "nbformat_minor": 2
}
